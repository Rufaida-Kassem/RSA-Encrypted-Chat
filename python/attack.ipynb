{
 "cells": [
  {
   "cell_type": "code",
   "execution_count": null,
   "metadata": {},
   "outputs": [],
   "source": [
    "# this is the attacker's script\n",
    "# using the n value, we can calculate the p and q values\n",
    "# using the p and q values, we can calculate the phi value\n",
    "# using the phi value, we can calculate the d value\n",
    "# we use prime factorization to calculate the p and q values\n",
    "\n",
    "from sympy import *\n",
    "from rsa import *\n",
    "import time\n",
    "import matplotlib.pyplot as plt\n",
    "%matplotlib inline\n"
   ]
  },
  {
   "cell_type": "code",
   "execution_count": 6,
   "metadata": {},
   "outputs": [],
   "source": [
    "# repeat the process for different number of bits\n",
    "\n",
    "number_of_bits = [ i for i in range(27, 100)]\n",
    "\n",
    "# we will store the time taken to attack the message\n",
    "times_to_attack = []\n",
    "\n",
    "for n_number_of_bits in number_of_bits:\n",
    "    while True:\n",
    "        try:\n",
    "            # generate the public key and private key\n",
    "            e, d, n = generate_keys(n_number_of_bits)\n",
    "            \n",
    "            # if generated successfully, break the loop\n",
    "            break\n",
    "        except:\n",
    "            continue\n",
    "    \n",
    "    # start the timer\n",
    "    start_time = time.time()\n",
    "    # calculate the p and q values\n",
    "    p_attack, q_attack = factorint(n).keys()\n",
    "    # calculate the phi value\n",
    "    phi_attack = (p_attack - 1) * (q_attack - 1)\n",
    "    \n",
    "    # calculate the d value\n",
    "    d_attack = mod_inverse(e, phi_attack)\n",
    "    \n",
    "    # stop the timer\n",
    "    end_time = time.time()\n",
    "    \n",
    "    times_to_attack.append(end_time - start_time)\n",
    "    \n",
    "    # # check if the d values are the same and print the result\n",
    "    # result = \"attacked successfully\" if d == d_attack else \"failed to attack the message\"\n",
    "    # print(\"number of bits: \", n_number_of_bits, result)\n"
   ]
  },
  {
   "cell_type": "code",
   "execution_count": 1,
   "metadata": {},
   "outputs": [
    {
     "ename": "NameError",
     "evalue": "name 'plt' is not defined",
     "output_type": "error",
     "traceback": [
      "\u001b[1;31m---------------------------------------------------------------------------\u001b[0m",
      "\u001b[1;31mNameError\u001b[0m                                 Traceback (most recent call last)",
      "\u001b[1;32md:\\CUFE_CMP_2024\\Third_year\\second_semester\\cybersecurity\\RSA-Cryptography\\python\\attack.ipynb Cell 3\u001b[0m in \u001b[0;36m2\n\u001b[0;32m      <a href='vscode-notebook-cell:/d%3A/CUFE_CMP_2024/Third_year/second_semester/cybersecurity/RSA-Cryptography/python/attack.ipynb#W2sZmlsZQ%3D%3D?line=0'>1</a>\u001b[0m \u001b[39m# plot the graph\u001b[39;00m\n\u001b[1;32m----> <a href='vscode-notebook-cell:/d%3A/CUFE_CMP_2024/Third_year/second_semester/cybersecurity/RSA-Cryptography/python/attack.ipynb#W2sZmlsZQ%3D%3D?line=1'>2</a>\u001b[0m plt\u001b[39m.\u001b[39mplot(number_of_bits, times_to_attack)\n\u001b[0;32m      <a href='vscode-notebook-cell:/d%3A/CUFE_CMP_2024/Third_year/second_semester/cybersecurity/RSA-Cryptography/python/attack.ipynb#W2sZmlsZQ%3D%3D?line=2'>3</a>\u001b[0m plt\u001b[39m.\u001b[39mxlabel(\u001b[39m\"\u001b[39m\u001b[39mNumber of bits\u001b[39m\u001b[39m\"\u001b[39m)\n\u001b[0;32m      <a href='vscode-notebook-cell:/d%3A/CUFE_CMP_2024/Third_year/second_semester/cybersecurity/RSA-Cryptography/python/attack.ipynb#W2sZmlsZQ%3D%3D?line=3'>4</a>\u001b[0m plt\u001b[39m.\u001b[39mylabel(\u001b[39m\"\u001b[39m\u001b[39mTime taken (in seconds)\u001b[39m\u001b[39m\"\u001b[39m)\n",
      "\u001b[1;31mNameError\u001b[0m: name 'plt' is not defined"
     ]
    }
   ],
   "source": [
    "# plot the graph\n",
    "plt.plot(number_of_bits, times_to_attack)\n",
    "plt.xlabel(\"Number of bits\")\n",
    "plt.ylabel(\"Time taken (in seconds)\")"
   ]
  }
 ],
 "metadata": {
  "kernelspec": {
   "display_name": "Python 3",
   "language": "python",
   "name": "python3"
  },
  "language_info": {
   "codemirror_mode": {
    "name": "ipython",
    "version": 3
   },
   "file_extension": ".py",
   "mimetype": "text/x-python",
   "name": "python",
   "nbconvert_exporter": "python",
   "pygments_lexer": "ipython3",
   "version": "3.9.10"
  },
  "orig_nbformat": 4
 },
 "nbformat": 4,
 "nbformat_minor": 2
}

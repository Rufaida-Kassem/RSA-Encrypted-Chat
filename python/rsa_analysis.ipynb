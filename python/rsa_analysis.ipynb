{
 "cells": [
  {
   "cell_type": "code",
   "execution_count": 2,
   "metadata": {},
   "outputs": [],
   "source": [
    "from sympy import *\n",
    "from rsa import *\n",
    "import time\n",
    "import matplotlib.pyplot as plt\n",
    "%matplotlib inline\n"
   ]
  },
  {
   "cell_type": "code",
   "execution_count": null,
   "metadata": {},
   "outputs": [],
   "source": [
    "# repeat the process for different number of bits\n",
    "\n",
    "number_of_bits = [ i for i in range(27, 2048)]\n",
    "\n",
    "# we will store the time taken to encrypt and decrypt the message\n",
    "time_to_encrypt = []\n",
    "time_to_decrypt = []\n",
    "\n",
    "for n_number_of_bits in number_of_bits:\n",
    "    while True:\n",
    "        try:\n",
    "            # generate the public key and private key\n",
    "            e, d, n = generate_keys(n_number_of_bits)\n",
    "            \n",
    "            # if generated successfully, break the loop\n",
    "            break\n",
    "        except:\n",
    "            continue\n",
    "        \n",
    "    # message to be encrypted ----- as it would be spaces \"the greatest character value here\"\n",
    "    msg = \"-----\"\n",
    "    \n",
    "    # start the timer\n",
    "    start_time = time.time()\n",
    "    \n",
    "    # encrypt the message\n",
    "    encrypted_msg = encrypt(msg, e, n)\n",
    "    \n",
    "    time_to_encrypt.append(time.time() - start_time)\n",
    "    \n",
    "    # start the timer\n",
    "    start_time = time.time()\n",
    "    \n",
    "    # decrypt the message\n",
    "    decrypted_msg = decrypt(encrypted_msg[0], d, n)\n",
    "    \n",
    "    time_to_decrypt.append(time.time() - start_time)\n"
   ]
  },
  {
   "cell_type": "code",
   "execution_count": null,
   "metadata": {},
   "outputs": [],
   "source": [
    "# plot the graph\n",
    "plt.plot(number_of_bits, time_to_encrypt, label=\"Encryption\")"
   ]
  },
  {
   "cell_type": "code",
   "execution_count": null,
   "metadata": {},
   "outputs": [],
   "source": [
    "# plot the graph\n",
    "plt.plot(number_of_bits, time_to_decrypt, label=\"Decryption\")"
   ]
  }
 ],
 "metadata": {
  "kernelspec": {
   "display_name": "Python 3",
   "language": "python",
   "name": "python3"
  },
  "language_info": {
   "codemirror_mode": {
    "name": "ipython",
    "version": 3
   },
   "file_extension": ".py",
   "mimetype": "text/x-python",
   "name": "python",
   "nbconvert_exporter": "python",
   "pygments_lexer": "ipython3",
   "version": "3.9.10"
  },
  "orig_nbformat": 4
 },
 "nbformat": 4,
 "nbformat_minor": 2
}
